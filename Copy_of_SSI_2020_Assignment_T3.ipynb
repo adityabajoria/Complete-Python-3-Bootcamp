{
  "nbformat": 4,
  "nbformat_minor": 0,
  "metadata": {
    "kernelspec": {
      "display_name": "Python 3",
      "language": "python",
      "name": "python3"
    },
    "language_info": {
      "codemirror_mode": {
        "name": "ipython",
        "version": 3
      },
      "file_extension": ".py",
      "mimetype": "text/x-python",
      "name": "python",
      "nbconvert_exporter": "python",
      "pygments_lexer": "ipython3",
      "version": "3.7.4"
    },
    "colab": {
      "name": "Copy of SSI 2020 Assignment T3.ipynb",
      "provenance": [],
      "collapsed_sections": [
        "cTn2_l3L9_fE"
      ],
      "toc_visible": true,
      "include_colab_link": true
    }
  },
  "cells": [
    {
      "cell_type": "markdown",
      "metadata": {
        "id": "view-in-github",
        "colab_type": "text"
      },
      "source": [
        "<a href=\"https://colab.research.google.com/github/adityabajoria/Complete-Python-3-Bootcamp/blob/master/Copy_of_SSI_2020_Assignment_T3.ipynb\" target=\"_parent\"><img src=\"https://colab.research.google.com/assets/colab-badge.svg\" alt=\"Open In Colab\"/></a>"
      ]
    },
    {
      "cell_type": "markdown",
      "metadata": {
        "id": "WEjxrARv9_eo",
        "colab_type": "text"
      },
      "source": [
        "# Assignment T3\n",
        "\n",
        "*Assignment written by Naveen Durvasula, Franklyn Wang, and Adam Pahlavan*\n",
        "\n",
        "In the following assignment, you will conduct exploratory data analysis (EDA) with bitcoin data.\n"
      ]
    },
    {
      "cell_type": "markdown",
      "metadata": {
        "id": "6QJ6Gjmh9_eq",
        "colab_type": "text"
      },
      "source": [
        "## Overview\n",
        "\n",
        "In this assignment, we'll be exploring the bitcoin starter dataset in *technology/dh-bitcoin.csv*. The bitcoin dataset contains metadata on bitcoin network traffic from 2009 to 2014. The dataset is very interesting, and there are a few peculiar quirks that we'll explore which are generalizable in nature. A few notes: \n",
        "\n",
        "* **Please do not worry if you know nothing about Bitcoin or blockchains.** This assignment embraces the framework of [just-in-time learning](https://en.wikipedia.org/wiki/Just-in-time_learning#:~:text=Just%2Din%2Dtime%20learning%20is,is%20needed%20by%20the%20learner.). Throughout the assignment, we will introduce the necessary information you need to know to tackle each problem before the problem is presented. \n",
        "\n",
        "* While understanding this dataset may still be challenging, the decision to design the assignment around such a complex dataset was purposeful. **Working with challenging datasets will prepare you to tackle far more complex datasets in the future.** As far as tabular datasets go, the Bitcoin dataset is close to as hard as it gets. After completing the assignment, you should feel confident to conquer any tabular datasets you come into contact with in the future.\n",
        "\n",
        "* All three problems ask you to build a model which relates variables $X$ and $Y$ in the bitcoin dataset. In each case, the goal is to create a predictive model of $Y$ given $X$ for two particular columns in the dataset.\n",
        "\n",
        "* The method we ask you to follow in problems 1-3 is generalizable and can be adapted for EDA you conduct in your own data science research projects. Performing this style of EDA whenever you start a new project is a great way to begin exploring and getting familiar with the data you are working with.\n",
        "\n",
        "Let's get started!"
      ]
    },
    {
      "cell_type": "markdown",
      "metadata": {
        "id": "yaKqLvSC9_fh",
        "colab_type": "text"
      },
      "source": [
        "## Problem 1\n",
        "\n",
        "In this problem, we'll explore the relationship between **adjustedTxVolume (X)** and **price (Y)** in the data."
      ]
    },
    {
      "cell_type": "markdown",
      "metadata": {
        "id": "QquKhgbNs9lj",
        "colab_type": "text"
      },
      "source": [
        "\n",
        "\n",
        "---\n",
        "\n",
        "\n",
        "### **Reading: Crash Course on Bitcoin**\n",
        "\n",
        "Before we get started, we wanted to introduce a short lesson on Bitcoin that will be useful for this problem. As you may know, Bitcoin is the first example of a [digital cryptocurrency](https://en.wikipedia.org/wiki/Cryptocurrency). The full details of how a blockchain or cryptocurrency work are pretty complex, and you will not need to know them to complete this assignment. We will explain the high-level details you should be familiar with below:\n",
        "\n",
        "*   For the purpose of this assignment, just think of Bitcoin as any other international currency, like the European euro.\n",
        "*   Just like any other international currency, there are transactions that can be measured in both the native currency denomination or in the equivalent US dollars. The exact price of a transaction in US dollars depends not only on the volume in the native demonination (i.e. 15 euros) but also the exchange rate between US dollars and the foreign currency (i.e. 1 euro = 1.12 USD). **This exchange rate fluctuates every day.**\n",
        "*   One important detail worth mentioning for cryptocurrencies like Bitcoin is **there is no central backing to the currency**. The Bitcoin network is completely decentralized, and transactions are processed by the world's collective computing power. Unlike most currencies which are backed by governments, no one is really in charge of Bitcoin.\n",
        "*   To give Bitcoin miners an incentive to process (or *mine*) new transactions, new Bitcoin currency is minted and given to the winner of the mining process every time a new block is mined. We will return to the mining process in Problem 3 once we discuss mining rewards."
      ]
    },
    {
      "cell_type": "markdown",
      "metadata": {
        "id": "9zFO0qNftCwS",
        "colab_type": "text"
      },
      "source": [
        "---\n",
        "\n",
        "### **$X$, $Y$ Column Descriptions**\n",
        "\n",
        "This problem compares both **adjustedTxVolume (X)** and **price (Y)** in the data. We will describe both columns below:\n",
        "\n",
        "*   **price (Y):** The USD price of Bitcoin on a particular day. Represents how many US dollars it costs to buy one Bitcoin. Here is a [website](https://www.coindesk.com/price/bitcoin) where you can track the spectacular trend in the price of Bitcoin over time.\n",
        "*   **adjustedTxVolume (X):** The total economic throughput on the bitcoin network on any particular day. Let's use an example to illustrate: let's say the bitcoin network had only two participants Alice and Bob. Let's say on one day, Alice paid Bob 3 Bitcoin, and Bob paid Alice 4 Bitcoin. The TxVolume for that day would be 7 Bitcoin (and not 1 Bitcoin). The way that TxVolume is calculated is based on gross totals and not any net measure. If you are familiar with the term gross domestic product (GDP) of a country from economics, it is also calculated in a similar way. Both adjustedTxVolume and GDP are measures of how much the economy on the bitcoin network or a country is \"buzzing.\"\n",
        "\n",
        "**Note:** The reason why the term *adjusted* is used to describe *txVolume* is because on the Bitcoin network, there are typically a lot of transactions that are not really associated with economic transactions. These transactions are a source of noise and error when trying to track economic throughput. Possible causes for this source of noise includes factors such as:\n",
        "\n",
        "*   **Mixers and other Privacy Enhancements:** Intermediate transactions that allow users to mix their coins with other users to obfuscate who the sender and receiver of each individual transaction is. Mixers can cause one true economic transaction to be elongated into many intermediate ones on the chain.\n",
        "*   **Self-Churn:** When a user shuffles Bitcoin among her/his own addresses. This can be used to either combine or reorganize the UTXOs (term introduced in problem 2) that a user owns.\n",
        "\n",
        "These transactions can often distort the actual economic throughput of the blockchain significantly and lead to overestimation of true economic throughput by a factor of ~10 (!). The adjusted measure of TxVolume is a way of trying to control for this source of error and to measure the true economic activity of the underlying network."
      ]
    },
    {
      "cell_type": "markdown",
      "metadata": {
        "colab_type": "text",
        "id": "rfVAIgJCPxbO"
      },
      "source": [
        "---\n",
        "\n",
        "\n",
        "### **(a) Hypothesize the Relationship**\n",
        "Before you plot the data on a scatterplot, what do you hypothesize the relationship between $X$ and $Y$ will be? Do you hypothesize the data will follow either a linear, power law, or exponential relationship? If not, what kind of behavior do you hypothesize the data will exhibit? Please justify your response."
      ]
    },
    {
      "cell_type": "markdown",
      "metadata": {
        "colab_type": "text",
        "id": "i6rCfDwNPxbP"
      },
      "source": [
        "*The relationship between X and Y, or adjustedTxVolume and price, is power law, this is because volume is roughly based on the description its volume is rougly the price multipled by the popularity. This shows it is going to be a power law relationship. *"
      ]
    },
    {
      "cell_type": "markdown",
      "metadata": {
        "id": "chA9NSOxuqEx",
        "colab_type": "text"
      },
      "source": [
        "### **(b) Load a Fresh Copy of Data**\n",
        "\n",
        "Next, run the following cell to load the data into a *pandas* dataframe and to visualize the first five rows of data. Generally, each time you do an analysis, it's a good idea to load the data again to make sure you start with a clean copy of the dataset. If you apply a transformation to data, it's a good way of ensuring you don't have any transformations remaining when you do the next analysis. "
      ]
    },
    {
      "cell_type": "code",
      "metadata": {
        "id": "x4nKFzeBu4bx",
        "colab_type": "code",
        "colab": {
          "base_uri": "https://localhost:8080/",
          "height": 309
        },
        "outputId": "89687a70-99ea-4f59-d108-a8841fdfa7fd"
      },
      "source": [
        "import pandas as pd\n",
        "import matplotlib.pyplot as plt\n",
        "\n",
        "# run this cell to download *dh-bitcoin.csv* from the Google Drive\n",
        "df = pd.read_csv('https://drive.google.com/u/0/uc?id=1Fo_QyN4ttdz1muDHKgHtXVtZpXJ5ODoV&export=download')\n",
        "df.head()"
      ],
      "execution_count": 32,
      "outputs": [
        {
          "output_type": "execute_result",
          "data": {
            "text/html": [
              "<div>\n",
              "<style scoped>\n",
              "    .dataframe tbody tr th:only-of-type {\n",
              "        vertical-align: middle;\n",
              "    }\n",
              "\n",
              "    .dataframe tbody tr th {\n",
              "        vertical-align: top;\n",
              "    }\n",
              "\n",
              "    .dataframe thead th {\n",
              "        text-align: right;\n",
              "    }\n",
              "</style>\n",
              "<table border=\"1\" class=\"dataframe\">\n",
              "  <thead>\n",
              "    <tr style=\"text-align: right;\">\n",
              "      <th></th>\n",
              "      <th>date</th>\n",
              "      <th>txVolume</th>\n",
              "      <th>adjustedTxVolume</th>\n",
              "      <th>txCount</th>\n",
              "      <th>marketcap</th>\n",
              "      <th>price</th>\n",
              "      <th>exchangeVolume</th>\n",
              "      <th>generatedCoins</th>\n",
              "      <th>fees</th>\n",
              "      <th>activeAddresses</th>\n",
              "      <th>averageDifficulty</th>\n",
              "      <th>paymentCount</th>\n",
              "      <th>medianTxValue</th>\n",
              "      <th>medianFee</th>\n",
              "      <th>blockSize</th>\n",
              "      <th>blockCount</th>\n",
              "    </tr>\n",
              "  </thead>\n",
              "  <tbody>\n",
              "    <tr>\n",
              "      <th>0</th>\n",
              "      <td>2013-04-28</td>\n",
              "      <td>6.879868e+07</td>\n",
              "      <td>3.153714e+07</td>\n",
              "      <td>41702</td>\n",
              "      <td>1.500656e+09</td>\n",
              "      <td>135.30</td>\n",
              "      <td>0.0</td>\n",
              "      <td>4425.0000</td>\n",
              "      <td>32.791942</td>\n",
              "      <td>117984</td>\n",
              "      <td>8.974296e+06</td>\n",
              "      <td>130171</td>\n",
              "      <td>49.980091</td>\n",
              "      <td>0.0005</td>\n",
              "      <td>21597536</td>\n",
              "      <td>177</td>\n",
              "    </tr>\n",
              "    <tr>\n",
              "      <th>1</th>\n",
              "      <td>2013-04-29</td>\n",
              "      <td>1.138128e+08</td>\n",
              "      <td>4.821652e+07</td>\n",
              "      <td>51602</td>\n",
              "      <td>1.491703e+09</td>\n",
              "      <td>134.44</td>\n",
              "      <td>0.0</td>\n",
              "      <td>4349.9988</td>\n",
              "      <td>45.724114</td>\n",
              "      <td>86925</td>\n",
              "      <td>8.974296e+06</td>\n",
              "      <td>112426</td>\n",
              "      <td>62.425891</td>\n",
              "      <td>0.0005</td>\n",
              "      <td>25676453</td>\n",
              "      <td>174</td>\n",
              "    </tr>\n",
              "    <tr>\n",
              "      <th>2</th>\n",
              "      <td>2013-04-30</td>\n",
              "      <td>8.426632e+07</td>\n",
              "      <td>5.686790e+07</td>\n",
              "      <td>47450</td>\n",
              "      <td>1.598310e+09</td>\n",
              "      <td>144.00</td>\n",
              "      <td>0.0</td>\n",
              "      <td>3725.0000</td>\n",
              "      <td>45.748651</td>\n",
              "      <td>76871</td>\n",
              "      <td>9.854414e+06</td>\n",
              "      <td>98258</td>\n",
              "      <td>26.942145</td>\n",
              "      <td>0.0005</td>\n",
              "      <td>27042465</td>\n",
              "      <td>149</td>\n",
              "    </tr>\n",
              "    <tr>\n",
              "      <th>3</th>\n",
              "      <td>2013-05-01</td>\n",
              "      <td>1.206825e+08</td>\n",
              "      <td>8.208736e+07</td>\n",
              "      <td>55176</td>\n",
              "      <td>1.543334e+09</td>\n",
              "      <td>139.00</td>\n",
              "      <td>0.0</td>\n",
              "      <td>3775.0000</td>\n",
              "      <td>40.885938</td>\n",
              "      <td>83564</td>\n",
              "      <td>1.007629e+07</td>\n",
              "      <td>96129</td>\n",
              "      <td>38.671980</td>\n",
              "      <td>0.0005</td>\n",
              "      <td>25727393</td>\n",
              "      <td>151</td>\n",
              "    </tr>\n",
              "    <tr>\n",
              "      <th>4</th>\n",
              "      <td>2013-05-02</td>\n",
              "      <td>9.337533e+07</td>\n",
              "      <td>5.823736e+07</td>\n",
              "      <td>55295</td>\n",
              "      <td>1.292577e+09</td>\n",
              "      <td>116.38</td>\n",
              "      <td>0.0</td>\n",
              "      <td>3350.0000</td>\n",
              "      <td>52.554004</td>\n",
              "      <td>81920</td>\n",
              "      <td>1.007629e+07</td>\n",
              "      <td>101721</td>\n",
              "      <td>35.382348</td>\n",
              "      <td>0.0005</td>\n",
              "      <td>26388234</td>\n",
              "      <td>134</td>\n",
              "    </tr>\n",
              "  </tbody>\n",
              "</table>\n",
              "</div>"
            ],
            "text/plain": [
              "         date      txVolume  adjustedTxVolume  ...  medianFee  blockSize  blockCount\n",
              "0  2013-04-28  6.879868e+07      3.153714e+07  ...     0.0005   21597536         177\n",
              "1  2013-04-29  1.138128e+08      4.821652e+07  ...     0.0005   25676453         174\n",
              "2  2013-04-30  8.426632e+07      5.686790e+07  ...     0.0005   27042465         149\n",
              "3  2013-05-01  1.206825e+08      8.208736e+07  ...     0.0005   25727393         151\n",
              "4  2013-05-02  9.337533e+07      5.823736e+07  ...     0.0005   26388234         134\n",
              "\n",
              "[5 rows x 16 columns]"
            ]
          },
          "metadata": {
            "tags": []
          },
          "execution_count": 32
        }
      ]
    },
    {
      "cell_type": "markdown",
      "metadata": {
        "colab_type": "text",
        "id": "DkU-NfeyPxbI"
      },
      "source": [
        "### **(c) Plot the Data on a Scatterplot**\n",
        "\n",
        "Visualize $X$ vs $Y$ using a scatterplot. \n",
        "\n",
        "*Hint: If you are unsure how to create the scatterplot, you may find the following [documentation](https://matplotlib.org/api/_as_gen/matplotlib.pyplot.scatter.html) to be useful.*"
      ]
    },
    {
      "cell_type": "code",
      "metadata": {
        "id": "gwwnheyZoyN6",
        "colab_type": "code",
        "colab": {
          "base_uri": "https://localhost:8080/",
          "height": 278
        },
        "outputId": "195b45ac-fb00-4bfe-a007-3d4d7803fa96"
      },
      "source": [
        "x = \"adjustedTxVolume\"\n",
        "y = \"price\"\n",
        "plt.scatter(df[x], df[y])\n",
        "plt.show()"
      ],
      "execution_count": 29,
      "outputs": [
        {
          "output_type": "display_data",
          "data": {
            "image/png": "[encoded data removed]",
            "text/plain": [
              "<Figure size 432x288 with 1 Axes>"
            ]
          },
          "metadata": {
            "tags": [],
            "needs_background": "light"
          }
        }
      ]
    },
    {
      "cell_type": "markdown",
      "metadata": {
        "colab_type": "text",
        "id": "afy7q09VPxbP"
      },
      "source": [
        "\n",
        "\n",
        "---\n",
        "### **(d) Describe Scatterplot**\n",
        "\n",
        "Describe, in completely qualitative terms, the direction, strength, and shape of this scatterplot. Recall the following three definitions from lecture:\n",
        "\n",
        "**Direction:** Qualitative descriptions of variable relationships (in the simplest form: \"As X increases, Y ...\")\n",
        "\n",
        "**Strength:** What is the strength of the trend you are describing?\n",
        "\n",
        "**Shape:** What does the data look like (linear, power law, exponential? if none of the above, how would you describe what the data looks like?)"
      ]
    },
    {
      "cell_type": "markdown",
      "metadata": {
        "id": "xV3COpmAo46v",
        "colab_type": "text"
      },
      "source": [
        "*This scatter plot is powerlaw, which is exactly what he had predicted. A powerlaw relationship is the balanced ratio between the x axis and the y axis and this is exactly what is happening between x and y. Not only that, but it can also be seen as linear realtionship. The strength of the graph shows an upward trend, this is because if we follow through the x axis towards the end of the y axis towards the begginging then we could note that it is an upward trend. As for the shape, as mentioned before, it could be linear or power law. The direction of the graph is very simple as well, as x increases y increases as well.   *"
      ]
    },
    {
      "cell_type": "markdown",
      "metadata": {
        "colab_type": "text",
        "id": "iAk23MnHPxbQ"
      },
      "source": [
        "\n",
        "\n",
        "---\n",
        "### **(e) Remove Outliers**\n",
        "If there are any outliers, please remove them and plot the new scatterplot without outliers. Please describe how many outliers you removed and the criteria you used when determining if a point was an outlier. Note that determine if a point is an outlier is a subjective measure so there may sometimes by multiple acceptable answers for how to remove outliers."
      ]
    },
    {
      "cell_type": "code",
      "metadata": {
        "id": "V9aEnF4krwqp",
        "colab_type": "code",
        "colab": {}
      },
      "source": [
        ""
      ],
      "execution_count": 32,
      "outputs": []
    },
    {
      "cell_type": "markdown",
      "metadata": {
        "id": "CVje-jvmrw-a",
        "colab_type": "text"
      },
      "source": [
        "*There are no outliers in the following scatterplot because each of the points in the scatterplot are relevant to the relationship of the plot. *"
      ]
    },
    {
      "cell_type": "markdown",
      "metadata": {
        "id": "nkEtNX209_fr",
        "colab_type": "text"
      },
      "source": [
        "\n",
        "\n",
        "---\n",
        "\n",
        "### **(f) Plot Three Transformations on Scatterplots**\n",
        "\n",
        "We would like to answer the question of whether the data is linear or whether there is a log-transformation under which it is linear. Use a scatterplot to plot each of the following three transformations:\n",
        "\n",
        "\n",
        "1.   X vs Y (linear)\n",
        "3.   X vs log Y (exponential)\n",
        "4.   log X vs log Y (power law)\n",
        "\n",
        "Compare the direction, strength, and shape of each of the transformed datsets. Based on which of the three graphs has the best fit, what do you hypothesize the best regression for the relationship between $X$ and $Y$ is? In the next part, we will more rigorously answer the question of which transformation to pursue.\n",
        "\n",
        "*Hint: To log-transform data, use np.log. Applying np.log to an array gives you an array where each element has been log-transformed.*"
      ]
    },
    {
      "cell_type": "code",
      "metadata": {
        "colab_type": "code",
        "id": "vsOEarPHtz4d",
        "colab": {
          "base_uri": "https://localhost:8080/",
          "height": 787
        },
        "outputId": "134a04cc-5ef6-44e7-dff7-42cc63f11b05"
      },
      "source": [
        "import numpy as np\n",
        "\n",
        "# X vs Y\n",
        "plt.scatter(df[x], df[y])\n",
        "plt.show()\n",
        "\n",
        "# X vs log Y\n",
        "plt.scatter(df[x], np.log(df[y]))\n",
        "plt.show()\n",
        "\n",
        "# log X vs log Y\n",
        "plt.scatter(np.log(df[x]), np.log(df[y]))\n",
        "plt.show()"
      ],
      "execution_count": 35,
      "outputs": [
        {
          "output_type": "display_data",
          "data": {
            "image/png": "[encoded data removed]",
            "text/plain": [
              "<Figure size 432x288 with 1 Axes>"
            ]
          },
          "metadata": {
            "tags": [],
            "needs_background": "light"
          }
        },
        {
          "output_type": "display_data",
          "data": {
            "image/png": "[encoded data removed]",
            "text/plain": [
              "<Figure size 432x288 with 1 Axes>"
            ]
          },
          "metadata": {
            "tags": [],
            "needs_background": "light"
          }
        },
        {
          "output_type": "display_data",
          "data": {
            "image/png": "[encoded data removed]",
            "text/plain": [
              "<Figure size 432x288 with 1 Axes>"
            ]
          },
          "metadata": {
            "tags": [],
            "needs_background": "light"
          }
        }
      ]
    },
    {
      "cell_type": "markdown",
      "metadata": {
        "colab_type": "text",
        "id": "mljx4Pgktz4p"
      },
      "source": [
        "*Above are the three graphs which show the different realtionships among graphs. Each of the graohs are very different to each other. For the first graph  *"
      ]
    },
    {
      "cell_type": "markdown",
      "metadata": {
        "id": "3gKQHwhw2xAN",
        "colab_type": "text"
      },
      "source": [
        "---\n",
        "### **(g) Choose Best Transformation**\n",
        "\n",
        "We will now define a formal heuristic for selecting the best transformation for our regression. For each of the following transformations, calculate the value of the Pearson correlation coefficient *r* between the two variables:\n",
        "\n",
        "1.   X vs Y (linear)\n",
        "3.   X vs log Y (exponential)\n",
        "4.   log X vs log Y (power law)\n",
        "\n",
        "**Choose the transformation with the largest absolute value of *r* as the best transformation for this dataset.** We will call the coordinates associated with the transformation we choose $x'$ (either $X$ or $\\log{X}$) and $y'$ (either $Y$ or $\\log{Y}$) for the rest of the problem. \n",
        "\n",
        "**Note:** When completing this problem, please do the calculations for z-score and the correlation coefficient yourself and **do not** use functions like *scipy.stats.pearsonr* or *scipy.stats.zscore.* While using these functions is great practice for your own work, we want you to gain experience calculating these quantities manually first.\n",
        "\n",
        "*Hints*:\n",
        "\n",
        "*  Recall that when we have a single column of quantitative data $X$ (or $\\log X$), we can take $z$-scores of the data by taking $z_{x} = \\frac{X - \\mu_{X}}{\\sigma_{X}}$.\n",
        "\n",
        "*   To calculate the values of the Pearson correlation coefficient $r$ between two quantitative variables $X$ and $Y$, first transform both $X$ and $Y$ to z-score space by normalizing both sets of coordinates. Then, use the following formula: \n",
        "\n",
        "$$ r = \\frac{\\sum_{i = 1}^{n} z_{x_{i}} z_{y_{i}}}{n} $$\n",
        "\n",
        "*   You may find the np.mean() (arr.mean()) or np.log(df) functions to be useful"
      ]
    },
    {
      "cell_type": "code",
      "metadata": {
        "colab_type": "code",
        "id": "q2owukKsv86g",
        "colab": {}
      },
      "source": [
        "def col_corr(a, b):\n",
        "  # Normalize the data\n",
        "  std_a = np.std(a)\n",
        "  mu_a = a.mean()\n",
        "  a -= mu_a\n",
        "  a /= std_a\n",
        "\n",
        "  std_b = np.std(b)\n",
        "  mu_b = a.mean()\n",
        "  b -= mu_b\n",
        "  b /= std_b\n",
        "\n",
        "\n",
        "  # Actually calculate and return r \n",
        "  return (a * b).mean()\n",
        "\n",
        "  xraw = df[x].copy()\n",
        "  yraw = df[y].copy()\n",
        "  lgx = np.log(df[x])\n",
        "  lgy = np.log(df[y])\n",
        "\n",
        "  print(col_corr(xraw, yraw))\n",
        "  print(col_corr(xraw, lgy))\n",
        "  print(col_corr(lgx, lgy))\n"
      ],
      "execution_count": 37,
      "outputs": []
    },
    {
      "cell_type": "markdown",
      "metadata": {
        "colab_type": "text",
        "id": "szcZA2CTv86m"
      },
      "source": [
        "*Write your text answer here*"
      ]
    },
    {
      "cell_type": "markdown",
      "metadata": {
        "id": "sknlDUY59_fy",
        "colab_type": "text"
      },
      "source": [
        "---\n",
        "### **(h) Calculate Regression Coefficients**\n",
        "\n",
        "Transform your data $x'$ and $y'$ to z-score space (i.e. calculate the z-scores $z_{y'}$ and $z_{x'}$), and write numpy code to calculate the regression coefficients $w'$ and $b'$ for $z_{y'} = w'*z_{x'} + b'$. Print out the values of $w'$ and $b'$.\n",
        "\n",
        "*Hint: Recall that it is fairly simple to calculate $b'$ and $w'$ for a linear regression between two variables in z-score space. w' is just the correlation coefficient r between the variables, and b' is a particular constant.*"
      ]
    },
    {
      "cell_type": "code",
      "metadata": {
        "colab_type": "code",
        "id": "7ylCyIoizM2G",
        "colab": {
          "base_uri": "https://localhost:8080/",
          "height": 52
        },
        "outputId": "b4606daf-59bf-4140-b32d-1d6f6e175498"
      },
      "source": [
        "lgx = np.log(df[x])\n",
        "lgy = np.log(df[y])\n",
        "\n",
        "std_x = np.std(lgx)\n",
        "mu_x = lgx.mean()\n",
        "lgx -= mu_x\n",
        "lgx /= std_x\n",
        "\n",
        "std_y = np.std(lgy)\n",
        "mu_y = lgy.mean()\n",
        "lgy -= mu_y \n",
        "lgy /= std_y\n",
        "\n",
        "wnorm = np.mean(lgx * lgy)\n",
        "bnorm = 0\n",
        "\n",
        "print(wnorm)\n",
        "print(bnorm)"
      ],
      "execution_count": 38,
      "outputs": [
        {
          "output_type": "stream",
          "text": [
            "0.9520469542944037\n",
            "0\n"
          ],
          "name": "stdout"
        }
      ]
    },
    {
      "cell_type": "markdown",
      "metadata": {
        "id": "HvH_pqZ09_f_",
        "colab_type": "text"
      },
      "source": [
        "\n",
        "\n",
        "---\n",
        "### **(i) Calculate Coefficient of Determination $R^2$**\n",
        "Using numpy, compute the value of $R^2$ for the regression calculated in the last part. Intepret the value of $R^2$ in the context of this problem. If you did part (g) properly, you shouldn't need to do any complicated math here!"
      ]
    },
    {
      "cell_type": "code",
      "metadata": {
        "colab_type": "code",
        "id": "WGj-F55KzUtT",
        "colab": {
          "base_uri": "https://localhost:8080/",
          "height": 35
        },
        "outputId": "ce50bedf-e3de-47e1-f6f6-e59dfcce1c5b"
      },
      "source": [
        "print(wnorm ** 2 )"
      ],
      "execution_count": 39,
      "outputs": [
        {
          "output_type": "stream",
          "text": [
            "0.9063934031812504\n"
          ],
          "name": "stdout"
        }
      ]
    },
    {
      "cell_type": "markdown",
      "metadata": {
        "colab_type": "text",
        "id": "lMetfj5HzUtW"
      },
      "source": [
        "*Write your text answer here*"
      ]
    },
    {
      "cell_type": "markdown",
      "metadata": {
        "id": "FG6_dIGk9_gC",
        "colab_type": "text"
      },
      "source": [
        "---\n",
        "### **(j) Plot Residuals**\n",
        "Next, plot the residuals for the regression you calculated in part (h) for the linear regression for $x'$ and $y'$ in z-score space. Explain whether the residuals graph is patterned or exhibits systematic error (see lecture 3.1 for more context)."
      ]
    },
    {
      "cell_type": "code",
      "metadata": {
        "colab_type": "code",
        "id": "qBtRG3JizZSZ",
        "colab": {
          "base_uri": "https://localhost:8080/",
          "height": 265
        },
        "outputId": "341fc75d-5f47-45c2-dc52-2852c508a4bd"
      },
      "source": [
        "plt.scatter(lgx, lgy - (lgx * wnorm + bnorm))\n",
        "plt.show()"
      ],
      "execution_count": 40,
      "outputs": [
        {
          "output_type": "display_data",
          "data": {
            "image/png": "[encoded data removed]",
            "text/plain": [
              "<Figure size 432x288 with 1 Axes>"
            ]
          },
          "metadata": {
            "tags": [],
            "needs_background": "light"
          }
        }
      ]
    },
    {
      "cell_type": "markdown",
      "metadata": {
        "colab_type": "text",
        "id": "Tv9T0SYTzZSb"
      },
      "source": [
        "As you can see this is the final outcome of the data, and it is a lot different from the original data, and the reason for this is because of the residuals and how we ploted them to make the data more balanced and better to understand and read. "
      ]
    },
    {
      "cell_type": "markdown",
      "metadata": {
        "id": "oZ4Q6m_D-ZNn",
        "colab_type": "text"
      },
      "source": [
        "---\n",
        "### **(k) [Optional Challenge] Compute $\\hat{Y}$**\n",
        "\n",
        "So far, you have done most of your work in z-score space of transformed coordinates $x'$ and $y'$. The last thing we ask if that you go backwards and find the regression equation $\\hat{Y}$. \n",
        "\n",
        "To go from z-score space of transformed coordinates $x'$ and $y'$ to an equation $\\hat{Y}$ that predicts $y$ from $x$, you'll need to do two steps:\n",
        "\n",
        "1.  Compute the denormalized regression coefficients $w$ and $b$ for the linear regression between $x'$ and $y'$ (not in z-score space).\n",
        "2. Use the regression coefficients $w$ and $b$ to derive an equation for $\\hat{Y}$.\n",
        "\n",
        "**Finally, please plot the original data $X$ vs. $Y$ on a scatterplot along with your linear, power law, or exponential regression line for $\\hat{Y}$.**\n",
        "\n",
        "*Hints:*\n",
        "* To compute the denormalized regression coefficients in step 1, recall that $w=r(\\sigma_{Y} / \\sigma_{X})$ and that the unnormalized regression line of best fit must always pass through the grand mean of the unnormalized points.\n",
        "* Step 2 requires undoing a possibly non-linear transformation for regression $y'=wx'+b$. Recall from lecture the three types of regression:\n",
        " * X vs Y (linear) $\\rightarrow$ $\\hat{Y}=wX+b$\n",
        " * X vs log Y (exponential) $\\rightarrow$ $\\hat{Y}=e^{wX + b}$\n",
        " * log X vs log Y (power law) $\\rightarrow$ $\\hat{Y}=e^{b}X^{w}$"
      ]
    },
    {
      "cell_type": "code",
      "metadata": {
        "colab_type": "code",
        "id": "Sn7A0s5ezeIf",
        "colab": {}
      },
      "source": [
        "# write your code here"
      ],
      "execution_count": null,
      "outputs": []
    },
    {
      "cell_type": "markdown",
      "metadata": {
        "colab_type": "text",
        "id": "nLEavyVQzeIk"
      },
      "source": [
        "*Write your text answer here*"
      ]
    },
    {
      "cell_type": "markdown",
      "metadata": {
        "id": "9MUEpg3v9_gI",
        "colab_type": "text"
      },
      "source": [
        "## Problem 2\n",
        "\n",
        "In this problem, we'll explore the relationship between **txCount (X)** and **paymentCount (Y)** in the data."
      ]
    },
    {
      "cell_type": "markdown",
      "metadata": {
        "id": "m_J7X_x6uQco",
        "colab_type": "text"
      },
      "source": [
        "### Reading: Bitcoin Payments and Transactions\n",
        "\n",
        "To give background for problem 2, we want to introduce a few more details about how payments are processed on the Bitcoin blockchain network:\n",
        "\n",
        "*   All Bitcoin on the Bitcoin network is held in entities called Unspent Transaction Outputs (UTXOs). You can think of each UTXO as having an owner and also as holding a certain quantity of Bitcoin.\n",
        "*   Bitcoin on the blockchain are not directly associated with a particular user's account but rather are stored in UTXOs which are in turn owned by users. For instance, Alice's account on the blockchain would never be associated with a single Bitcoin balance but rather as the owner of a set of UTXOs.\n",
        "*   A **transaction** on the Bitcoin blockchain has both inputs and output UTXOs. A transaction submitted by a user always has as its inputs UTXOs owned by the user and as its output new UTXOs that the user wants to create (which can either be owned by the sender or another party). The sum of the values of the input UTXOs must always be as least as large as the sum of the values of the output UTXOs. The difference between the input and output totals is paid as a transaction fee to the miner who successfully mines the first block with the transaction included. This transaction fee creates an incentive for miners to include many transactions in the blocks they mine.\n",
        "\n",
        "Transactions can have one or multiple input UTXOs and one or multiple output UTXOs. The exact number depends on the use case. Here are some cases that may occur:\n",
        "\n",
        "\n",
        "1.   If the goal is to transfer all the money in the input UTXOs to one person, there only needs to be one output UTXO.\n",
        "2.   If the goal is to transfer some of the money in input UTXOs to one person and keep the rest for the user (this is useful in cases where you don't have the exact denomination in sum of input UTXOs for the payment you want to make), then the transaction can have two output UTXOs: a recipient-owned UTXO and a sender-owned \"change\" UTXO. An example of when you'd want to use something like this is if Alice only owns UTXOs of quantity 5 Bitcoin or more but wants to pay Bob 2 Bitcoin. To make a transaction, Alice would need to destroy one of her UTXOs and create two in turn: a 2 Bitcoin UTXO belonging to Bob and a \"change\" UTXO passing 2.9 Bitcoin back to Alice. Notice there'd be a 0.1 Bitcoin transaction fee paid to the miner who mines the block with this transaction.\n",
        "3. The last case is when one sender wants to make a transaction with many output UTXOs. It is not uncommon for transactions to have over 20 output UTXOs. This kind of behavior is usually for use cases such as a mining pool paying out or a Bitcoin exchange paying its users on the chain."
      ]
    },
    {
      "cell_type": "markdown",
      "metadata": {
        "id": "9zKDhqTh2tgw",
        "colab_type": "text"
      },
      "source": [
        "---\n",
        "\n",
        "### **$X$, $Y$ Column Descriptions**\n",
        "\n",
        "This problem compares both **txCount (X)** and **paymentCount (Y)** in the data. We will describe both columns below:\n",
        "\n",
        "*   **paymentCount (Y):** The number of payments processed on the blockchain on a particular day.\n",
        "*   **txCount (X):** The number of transactions processed on the blockchain on a particular day.\n",
        "\n",
        "The reason why these two numbers are different is because multiple payments can be bundled into a single transaction as explained in the notes above. Both mining pools and Bitcoin exchanges are examples where the number of payments far exceed the number of transactions."
      ]
    },
    {
      "cell_type": "markdown",
      "metadata": {
        "colab_type": "text",
        "id": "hLfmagT23NFs"
      },
      "source": [
        "---\n",
        "\n",
        "\n",
        "### **(a) Hypothesize the Relationship**\n",
        "Before you plot the data on a scatterplot, what do you hypothesize the relationship between $X$ and $Y$ will be? Do you hypothesize the data will follow either a linear, power law, or exponential relationship? If not, what kind of behavior do you hypothesize the data will exhibit? Please justify your response."
      ]
    },
    {
      "cell_type": "markdown",
      "metadata": {
        "colab_type": "text",
        "id": "rnP9Zf7i3NFy"
      },
      "source": [
        "*This is a linear relation, because several payements can be bundled to transactions. As the number of transactions increase, one payment might increase by two or even three times. However noticing the fact that sometimes there are multiple payements as well. *"
      ]
    },
    {
      "cell_type": "markdown",
      "metadata": {
        "colab_type": "text",
        "id": "Ka4fE8mG3NFz"
      },
      "source": [
        "### **(b) Load a Fresh Copy of Data**\n",
        "\n",
        "Next, run the following cell to load the data into a *pandas* dataframe and to visualize the first five rows of data. Generally, each time you do an analysis, it's a good idea to load the data again, to make sure you start with a clean copy of the dataset. If you apply a transformation to data, it's a good way of ensuring you don't have any transformations remaining when you do the next analysis. "
      ]
    },
    {
      "cell_type": "code",
      "metadata": {
        "colab_type": "code",
        "id": "XnISXRdF3NFz",
        "colab": {
          "base_uri": "https://localhost:8080/",
          "height": 309
        },
        "outputId": "29688888-11ae-4a6d-d17d-59836c9833bc"
      },
      "source": [
        "import pandas as pd\n",
        "import matplotlib.pyplot as plt\n",
        "\n",
        "# run this cell to download *dh-bitcoin.csv* from the Google Drive\n",
        "df = pd.read_csv('https://drive.google.com/u/0/uc?id=1Fo_QyN4ttdz1muDHKgHtXVtZpXJ5ODoV&export=download')\n",
        "df.head()"
      ],
      "execution_count": 1,
      "outputs": [
        {
          "output_type": "execute_result",
          "data": {
            "text/html": [
              "<div>\n",
              "<style scoped>\n",
              "    .dataframe tbody tr th:only-of-type {\n",
              "        vertical-align: middle;\n",
              "    }\n",
              "\n",
              "    .dataframe tbody tr th {\n",
              "        vertical-align: top;\n",
              "    }\n",
              "\n",
              "    .dataframe thead th {\n",
              "        text-align: right;\n",
              "    }\n",
              "</style>\n",
              "<table border=\"1\" class=\"dataframe\">\n",
              "  <thead>\n",
              "    <tr style=\"text-align: right;\">\n",
              "      <th></th>\n",
              "      <th>date</th>\n",
              "      <th>txVolume</th>\n",
              "      <th>adjustedTxVolume</th>\n",
              "      <th>txCount</th>\n",
              "      <th>marketcap</th>\n",
              "      <th>price</th>\n",
              "      <th>exchangeVolume</th>\n",
              "      <th>generatedCoins</th>\n",
              "      <th>fees</th>\n",
              "      <th>activeAddresses</th>\n",
              "      <th>averageDifficulty</th>\n",
              "      <th>paymentCount</th>\n",
              "      <th>medianTxValue</th>\n",
              "      <th>medianFee</th>\n",
              "      <th>blockSize</th>\n",
              "      <th>blockCount</th>\n",
              "    </tr>\n",
              "  </thead>\n",
              "  <tbody>\n",
              "    <tr>\n",
              "      <th>0</th>\n",
              "      <td>2013-04-28</td>\n",
              "      <td>6.879868e+07</td>\n",
              "      <td>3.153714e+07</td>\n",
              "      <td>41702</td>\n",
              "      <td>1.500656e+09</td>\n",
              "      <td>135.30</td>\n",
              "      <td>0.0</td>\n",
              "      <td>4425.0000</td>\n",
              "      <td>32.791942</td>\n",
              "      <td>117984</td>\n",
              "      <td>8.974296e+06</td>\n",
              "      <td>130171</td>\n",
              "      <td>49.980091</td>\n",
              "      <td>0.0005</td>\n",
              "      <td>21597536</td>\n",
              "      <td>177</td>\n",
              "    </tr>\n",
              "    <tr>\n",
              "      <th>1</th>\n",
              "      <td>2013-04-29</td>\n",
              "      <td>1.138128e+08</td>\n",
              "      <td>4.821652e+07</td>\n",
              "      <td>51602</td>\n",
              "      <td>1.491703e+09</td>\n",
              "      <td>134.44</td>\n",
              "      <td>0.0</td>\n",
              "      <td>4349.9988</td>\n",
              "      <td>45.724114</td>\n",
              "      <td>86925</td>\n",
              "      <td>8.974296e+06</td>\n",
              "      <td>112426</td>\n",
              "      <td>62.425891</td>\n",
              "      <td>0.0005</td>\n",
              "      <td>25676453</td>\n",
              "      <td>174</td>\n",
              "    </tr>\n",
              "    <tr>\n",
              "      <th>2</th>\n",
              "      <td>2013-04-30</td>\n",
              "      <td>8.426632e+07</td>\n",
              "      <td>5.686790e+07</td>\n",
              "      <td>47450</td>\n",
              "      <td>1.598310e+09</td>\n",
              "      <td>144.00</td>\n",
              "      <td>0.0</td>\n",
              "      <td>3725.0000</td>\n",
              "      <td>45.748651</td>\n",
              "      <td>76871</td>\n",
              "      <td>9.854414e+06</td>\n",
              "      <td>98258</td>\n",
              "      <td>26.942145</td>\n",
              "      <td>0.0005</td>\n",
              "      <td>27042465</td>\n",
              "      <td>149</td>\n",
              "    </tr>\n",
              "    <tr>\n",
              "      <th>3</th>\n",
              "      <td>2013-05-01</td>\n",
              "      <td>1.206825e+08</td>\n",
              "      <td>8.208736e+07</td>\n",
              "      <td>55176</td>\n",
              "      <td>1.543334e+09</td>\n",
              "      <td>139.00</td>\n",
              "      <td>0.0</td>\n",
              "      <td>3775.0000</td>\n",
              "      <td>40.885938</td>\n",
              "      <td>83564</td>\n",
              "      <td>1.007629e+07</td>\n",
              "      <td>96129</td>\n",
              "      <td>38.671980</td>\n",
              "      <td>0.0005</td>\n",
              "      <td>25727393</td>\n",
              "      <td>151</td>\n",
              "    </tr>\n",
              "    <tr>\n",
              "      <th>4</th>\n",
              "      <td>2013-05-02</td>\n",
              "      <td>9.337533e+07</td>\n",
              "      <td>5.823736e+07</td>\n",
              "      <td>55295</td>\n",
              "      <td>1.292577e+09</td>\n",
              "      <td>116.38</td>\n",
              "      <td>0.0</td>\n",
              "      <td>3350.0000</td>\n",
              "      <td>52.554004</td>\n",
              "      <td>81920</td>\n",
              "      <td>1.007629e+07</td>\n",
              "      <td>101721</td>\n",
              "      <td>35.382348</td>\n",
              "      <td>0.0005</td>\n",
              "      <td>26388234</td>\n",
              "      <td>134</td>\n",
              "    </tr>\n",
              "  </tbody>\n",
              "</table>\n",
              "</div>"
            ],
            "text/plain": [
              "         date      txVolume  adjustedTxVolume  ...  medianFee  blockSize  blockCount\n",
              "0  2013-04-28  6.879868e+07      3.153714e+07  ...     0.0005   21597536         177\n",
              "1  2013-04-29  1.138128e+08      4.821652e+07  ...     0.0005   25676453         174\n",
              "2  2013-04-30  8.426632e+07      5.686790e+07  ...     0.0005   27042465         149\n",
              "3  2013-05-01  1.206825e+08      8.208736e+07  ...     0.0005   25727393         151\n",
              "4  2013-05-02  9.337533e+07      5.823736e+07  ...     0.0005   26388234         134\n",
              "\n",
              "[5 rows x 16 columns]"
            ]
          },
          "metadata": {
            "tags": []
          },
          "execution_count": 1
        }
      ]
    },
    {
      "cell_type": "markdown",
      "metadata": {
        "colab_type": "text",
        "id": "y0EGM9Tu3NF5"
      },
      "source": [
        "### **(c) Plot the Data on a Scatterplot**\n",
        "\n",
        "Visualize $X$ vs $Y$ using a scatterplot. \n",
        "\n",
        "*Hint: If you are unsure how to create the scatterplot, you may find the following [documentation](https://matplotlib.org/api/_as_gen/matplotlib.pyplot.scatter.html) to be useful.*"
      ]
    },
    {
      "cell_type": "code",
      "metadata": {
        "colab_type": "code",
        "id": "W1xIQ2tS3NF5",
        "colab": {
          "base_uri": "https://localhost:8080/",
          "height": 293
        },
        "outputId": "e827473f-6214-466b-a3e8-c207a23973c9"
      },
      "source": [
        "x = \"txCount\" \n",
        "y = \"paymentCount\"\n",
        "plt.scatter(df[x], df[y])"
      ],
      "execution_count": 6,
      "outputs": [
        {
          "output_type": "execute_result",
          "data": {
            "text/plain": [
              "<matplotlib.collections.PathCollection at 0x7f03c5ab3a90>"
            ]
          },
          "metadata": {
            "tags": []
          },
          "execution_count": 6
        },
        {
          "output_type": "display_data",
          "data": {
            "image/png": "[encoded data removed]",
            "text/plain": [
              "<Figure size 432x288 with 1 Axes>"
            ]
          },
          "metadata": {
            "tags": [],
            "needs_background": "light"
          }
        }
      ]
    },
    {
      "cell_type": "markdown",
      "metadata": {
        "colab_type": "text",
        "id": "TT4z_W0t3NF7"
      },
      "source": [
        "\n",
        "\n",
        "---\n",
        "### **(d) Describe Scatterplot**\n",
        "\n",
        "Describe, in completely qualitative terms, the direction, strength, and shape of this scatterplot. Recall the following three definitions from lecture:\n",
        "\n",
        "**Direction:** Qualitative descriptions of variable relationships (in the simplest form: \"As X increases, Y ...\")\n",
        "\n",
        "**Strength:** What is the strength of the trend you are describing?\n",
        "\n",
        "**Shape:** What does the data look like (linear, power law, exponential? if none of the above, how would you describe what the data looks like?)"
      ]
    },
    {
      "cell_type": "markdown",
      "metadata": {
        "colab_type": "text",
        "id": "LoWL6UOi3NF8"
      },
      "source": [
        "*This particular scatterplot has a positive direction, which means when x increases y also increases. The shape of the scatterplot looks linear as it going from bottom to top. The strength of the trend is more towards the positive side. *"
      ]
    },
    {
      "cell_type": "markdown",
      "metadata": {
        "colab_type": "text",
        "id": "w5VfsE2U3NF8"
      },
      "source": [
        "\n",
        "\n",
        "---\n",
        "### **(e) Remove Outliers**\n",
        "If there are any outliers, please remove them and plot the new scatterplot without outliers. Please describe how many outliers you removed and the criteria you used when determining if a point was an outlier. Note that determine if a point is an outlier is a subjective measure so there may sometimes by multiple acceptable answers for how to remove outliers."
      ]
    },
    {
      "cell_type": "code",
      "metadata": {
        "colab_type": "code",
        "id": "bGlXhAr03NF9",
        "colab": {
          "base_uri": "https://localhost:8080/",
          "height": 727
        },
        "outputId": "b6d82029-acc8-42e5-b0c3-4d3a7cfcd4b8"
      },
      "source": [
        "print(df[(df[x] <= 300000) & (df[y] >= 500000)][[x,y]])\n",
        "(df[x] > 300000) |(df[y] < 500000)\n",
        "plt.scatter(df[x], df[y])\n",
        "plt.show()"
      ],
      "execution_count": 15,
      "outputs": [
        {
          "output_type": "stream",
          "text": [
            "      txCount  paymentCount\n",
            "793    155724        602736\n",
            "799    173889        568309\n",
            "800    190613        700081\n",
            "801    201586       1301391\n",
            "802    191030        630204\n",
            "803    192866        677969\n",
            "804    186052       1257353\n",
            "805    208550        927889\n",
            "806    159547        647251\n",
            "822    143048       1391580\n",
            "823    123443       1078991\n",
            "824    147352       1473022\n",
            "825    147326       1537131\n",
            "828    132411       1171795\n",
            "829    133625       1241824\n",
            "830    134695       1365143\n",
            "857    149906       1883744\n",
            "1015   212014        512296\n",
            "1447   290069        529245\n",
            "1448   270555        505855\n",
            "1650   277479        516545\n",
            "1701   279371        503880\n",
            "1708   290259        515996\n",
            "1720   299913        575458\n",
            "1723   273473        514589\n"
          ],
          "name": "stdout"
        },
        {
          "output_type": "display_data",
          "data": {
            "image/png": "[encoded data removed]",
            "text/plain": [
              "<Figure size 432x288 with 1 Axes>"
            ]
          },
          "metadata": {
            "tags": [],
            "needs_background": "light"
          }
        }
      ]
    },
    {
      "cell_type": "markdown",
      "metadata": {
        "colab_type": "text",
        "id": "ibz5mfNP3NF_"
      },
      "source": [
        "*With the orginal scatterplot, I removed the outliners from the top left corner, using the 300,000 and 500,000 and noting them throughout the code. *"
      ]
    },
    {
      "cell_type": "markdown",
      "metadata": {
        "colab_type": "text",
        "id": "Qc4epzUE3NF_"
      },
      "source": [
        "\n",
        "\n",
        "---\n",
        "\n",
        "### **(f) Plot Three Transformations on Scatterplots**\n",
        "\n",
        "We would like to answer the question of whether the data is linear or whether there is a log-transformation under which it is linear. Use a scatterplot to plot each of the following three transformations:\n",
        "\n",
        "\n",
        "1.   X vs Y (linear)\n",
        "3.   X vs log Y (exponential)\n",
        "4.   log X vs log Y (power law)\n",
        "\n",
        "Compare the direction, strength, and shape of each of the transformed datsets. Based on which of the three graphs has the best fit, what do you hypothesize the best regression for the relationship between $X$ and $Y$ is? In the next part, we will more rigorously answer the question of which transformation to pursue.\n",
        "\n",
        "*Hint: To log-transform data, use np.log. Applying np.log to an array gives you an array where each element has been log-transformed.*"
      ]
    },
    {
      "cell_type": "code",
      "metadata": {
        "colab_type": "code",
        "id": "ExEOuK7e3NF_",
        "colab": {
          "base_uri": "https://localhost:8080/",
          "height": 789
        },
        "outputId": "96e28044-5937-4763-f203-e3a9194a2d1b"
      },
      "source": [
        "import numpy as np\n",
        "plt.scatter(df[x], df[y])\n",
        "plt.show()\n",
        "\n",
        "# X vs log Y\n",
        "plt.scatter(df[x], np.log(df[y]))\n",
        "plt.show()\n",
        "\n",
        "# Log X vs log Y\n",
        "plt.scatter(np.log(df[x]), np.log(df[y]))"
      ],
      "execution_count": 18,
      "outputs": [
        {
          "output_type": "display_data",
          "data": {
            "image/png": "[encoded data removed]",
            "text/plain": [
              "<Figure size 432x288 with 1 Axes>"
            ]
          },
          "metadata": {
            "tags": [],
            "needs_background": "light"
          }
        },
        {
          "output_type": "display_data",
          "data": {
            "image/png": "[encoded data removed]",
            "text/plain": [
              "<Figure size 432x288 with 1 Axes>"
            ]
          },
          "metadata": {
            "tags": [],
            "needs_background": "light"
          }
        },
        {
          "output_type": "execute_result",
          "data": {
            "text/plain": [
              "<matplotlib.collections.PathCollection at 0x7f03c3ca5c50>"
            ]
          },
          "metadata": {
            "tags": []
          },
          "execution_count": 18
        },
        {
          "output_type": "display_data",
          "data": {
            "image/png": "[encoded data removed]",
            "text/plain": [
              "<Figure size 432x288 with 1 Axes>"
            ]
          },
          "metadata": {
            "tags": [],
            "needs_background": "light"
          }
        }
      ]
    },
    {
      "cell_type": "markdown",
      "metadata": {
        "colab_type": "text",
        "id": "2Nh8l_8H3NGC"
      },
      "source": [
        "*As you can see there are three graphs above are very different to each other. The first graph is much more steeper and it has a positive trend, but it comes very gradually and is very slow. The second graph is very different to the first graph since it is a negative trend and it is a lot more clear. The last and the final graph is similar to the first graph but not exactly the same. It has a much more linearly positive trend and it is the exact opposite to the second graph. One interesting thing which can be identifed out of these three graphs is that the outliers within the graph are almost the same, the reason for this is because they all originate from the first graph. This was very interesting to look at. *"
      ]
    },
    {
      "cell_type": "markdown",
      "metadata": {
        "colab_type": "text",
        "id": "FavFeB9H3NGC"
      },
      "source": [
        "---\n",
        "### **(g) Choose Best Transformation**\n",
        "\n",
        "We will now define a formal heuristic for selecting the best transformation for our regression. For each of the following transformations, calculate the value of the Pearson correlation coefficient *r* between the two variables:\n",
        "\n",
        "1.   X vs Y (linear)\n",
        "3.   X vs log Y (exponential)\n",
        "4.   log X vs log Y (power law)\n",
        "\n",
        "**Choose the transformation with the largest absolute value of *r* as the best transformation for this dataset.** We will call the coordinates associated with the transformation we choose $x'$ (either $X$ or $\\log{X}$) and $y'$ (either $Y$ or $\\log{Y}$) for the rest of the problem. \n",
        "\n",
        "**Note:** When completing this problem, please do the calculations for z-score and the correlation coefficient yourself and **do not** use functions like *scipy.stats.pearsonr* or *scipy.stats.zscore.* While using these functions is great practice for your own work, we want you to gain experience calculating these quantities manually first.\n",
        "\n",
        "*Hints*:\n",
        "\n",
        "*  Recall that when we have a single column of quantitative data $X$ (or $\\log X$), we can take $z$-scores of the data by taking $z_{x} = \\frac{X - \\mu_{X}}{\\sigma_{X}}$.\n",
        "\n",
        "*   To calculate the values of the Pearson correlation coefficient $r$ between two quantitative variables $X$ and $Y$, first transform both $X$ and $Y$ to z-score space by normalizing both sets of coordinates. Then, use the following formula: \n",
        "\n",
        "$$ r = \\frac{\\sum_{i = 1}^{n} z_{x_{i}} z_{y_{i}}}{n} $$\n",
        "\n",
        "*   You may find the np.mean() (arr.mean()) or np.log(df) functions to be useful"
      ]
    },
    {
      "cell_type": "code",
      "metadata": {
        "colab_type": "code",
        "id": "jrYawIuY3NGC",
        "colab": {}
      },
      "source": [
        "def col_corr(a, b):\n",
        "  # Normalize the data\n",
        "  std_a = np.std(a)\n",
        "  mu_a = a.mean()\n",
        "  a -= mu_a\n",
        "  a /= std_a\n",
        "\n",
        "  std_b = np.std(b)\n",
        "  mu_b = a.mean()\n",
        "  b -= mu_b\n",
        "  b /= std_b\n",
        "\n",
        "\n",
        "  # Actually calculate and return r \n",
        "  return (a * b).mean()\n",
        "\n",
        "  xraw = df[x].copy()\n",
        "  yraw = df[y].copy()\n",
        "  lgx = np.log(df[x])\n",
        "  lgy = np.log(df[y])\n",
        "\n",
        "  print(col_corr(xraw, yraw))\n",
        "  print(col_corr(xraw, lgy))\n",
        "  print(col_corr(lgx, lgy))"
      ],
      "execution_count": 23,
      "outputs": []
    },
    {
      "cell_type": "markdown",
      "metadata": {
        "colab_type": "text",
        "id": "t_lmuoFT3NGE"
      },
      "source": [
        "*Write your text answer here*"
      ]
    },
    {
      "cell_type": "markdown",
      "metadata": {
        "colab_type": "text",
        "id": "n4MzHl8f3NGF"
      },
      "source": [
        "---\n",
        "### **(h) Calculate Regression Coefficients**\n",
        "\n",
        "Transform your data $x'$ and $y'$ to z-score space (i.e. calculate the z-scores $z_{y'}$ and $z_{x'}$), and write numpy code to calculate the regression coefficients $w'$ and $b'$ for $z_{y'} = w'*z_{x'} + b'$. Print out the values of $w'$ and $b'$.\n",
        "\n",
        "*Hint: Recall that it is fairly simple to calculate $b'$ and $w'$ for a linear regression between two variables in z-score space. w' is just the correlation coefficient r between the variables, and b' is a particular constant.*"
      ]
    },
    {
      "cell_type": "code",
      "metadata": {
        "colab_type": "code",
        "id": "lOzhfyU63NGF",
        "colab": {
          "base_uri": "https://localhost:8080/",
          "height": 52
        },
        "outputId": "fc95179b-8469-4120-8177-79ecc4af3a70"
      },
      "source": [
        "lgx = np.log(df[x])\n",
        "lgy = np.log(df[y])\n",
        "\n",
        "std_x = np.std(lgx)\n",
        "mu_x = lgx.mean()\n",
        "lgx -= mu_x\n",
        "lgx /= std_x\n",
        "\n",
        "std_y = np.std(lgy)\n",
        "mu_y = lgy.mean()\n",
        "lgy -= mu_y \n",
        "lgy /= std_y\n",
        "\n",
        "wnorm = np.mean(lgx * lgy)\n",
        "bnorm = 0\n",
        "\n",
        "print(wnorm)\n",
        "print(bnorm)"
      ],
      "execution_count": 24,
      "outputs": [
        {
          "output_type": "stream",
          "text": [
            "0.9339081204027307\n",
            "0\n"
          ],
          "name": "stdout"
        }
      ]
    },
    {
      "cell_type": "markdown",
      "metadata": {
        "colab_type": "text",
        "id": "iIbHHMw83NGH"
      },
      "source": [
        "\n",
        "\n",
        "---\n",
        "### **(i) Calculate Coefficient of Determination $R^2$**\n",
        "Using numpy, compute the value of $R^2$ for the regression calculated in the last part. Intepret the value of $R^2$ in the context of this problem. If you did part (g) properly, you shouldn't need to do any complicated math here!"
      ]
    },
    {
      "cell_type": "code",
      "metadata": {
        "colab_type": "code",
        "id": "9xSwW7un3NGI",
        "colab": {
          "base_uri": "https://localhost:8080/",
          "height": 35
        },
        "outputId": "012b1152-7b5e-465f-fc68-e30a7461107a"
      },
      "source": [
        "print(wnorm ** 2)"
      ],
      "execution_count": 25,
      "outputs": [
        {
          "output_type": "stream",
          "text": [
            "0.8721843773541614\n"
          ],
          "name": "stdout"
        }
      ]
    },
    {
      "cell_type": "markdown",
      "metadata": {
        "colab_type": "text",
        "id": "ieBA4ikQ3NGK"
      },
      "source": [
        "*Write your text answer here*"
      ]
    },
    {
      "cell_type": "markdown",
      "metadata": {
        "colab_type": "text",
        "id": "2CUN7R263NGL"
      },
      "source": [
        "---\n",
        "### **(j) Plot Residuals**\n",
        "Next, plot the residuals for the regression you calculated in part (h) for the linear regression for $x'$ and $y'$ in z-score space. Explain whether the residuals graph is patterned or exhibits systematic error (see lecture 3.1 for more context)."
      ]
    },
    {
      "cell_type": "code",
      "metadata": {
        "colab_type": "code",
        "id": "z1SfNoUH3NGL",
        "colab": {
          "base_uri": "https://localhost:8080/",
          "height": 265
        },
        "outputId": "91339a15-804a-4a23-9622-7cc24ec3d57f"
      },
      "source": [
        "plt.scatter(lgx, lgy - (lgx * wnorm + bnorm))\n",
        "plt.show()"
      ],
      "execution_count": 26,
      "outputs": [
        {
          "output_type": "display_data",
          "data": {
            "image/png": "[encoded data removed]",
            "text/plain": [
              "<Figure size 432x288 with 1 Axes>"
            ]
          },
          "metadata": {
            "tags": [],
            "needs_background": "light"
          }
        }
      ]
    },
    {
      "cell_type": "markdown",
      "metadata": {
        "colab_type": "text",
        "id": "53vra0e23NGN"
      },
      "source": [
        "*Write your text answer here*"
      ]
    },
    {
      "cell_type": "markdown",
      "metadata": {
        "colab_type": "text",
        "id": "oBaDrjAV3NGO"
      },
      "source": [
        "---\n",
        "### **(k) [Optional Challenge] Compute $\\hat{Y}$**\n",
        "\n",
        "So far, you have done most of your work in z-score space of transformed coordinates $x'$ and $y'$. The last thing we ask if that you go backwards and find the regression equation $\\hat{Y}$. \n",
        "\n",
        "To go from z-score space of transformed coordinates $x'$ and $y'$ to an equation $\\hat{Y}$ that predicts $y$ from $x$, you'll need to do two steps:\n",
        "\n",
        "1.  Compute the denormalized regression coefficients $w$ and $b$ for the linear regression between $x'$ and $y'$ (not in z-score space).\n",
        "2. Use the regression coefficients $w$ and $b$ to derive an equation for $\\hat{Y}$.\n",
        "\n",
        "**Finally, please plot the original data $X$ vs. $Y$ on a scatterplot along with your linear, power law, or exponential regression line for $\\hat{Y}$.**\n",
        "\n",
        "*Hints:*\n",
        "* To compute the denormalized regression coefficients in step 1, recall that $w=r(\\sigma_{Y} / \\sigma_{X})$ and that the unnormalized regression line of best fit must always pass through the grand mean of the unnormalized points.\n",
        "* Step 2 requires undoing a possibly non-linear transformation for regression $y'=wx'+b$. Recall from lecture the three types of regression:\n",
        " * X vs Y (linear) $\\rightarrow$ $\\hat{Y}=wX+b$\n",
        " * X vs log Y (exponential) $\\rightarrow$ $\\hat{Y}=e^{wX + b}$\n",
        " * log X vs log Y (power law) $\\rightarrow$ $\\hat{Y}=e^{b}X^{w}$"
      ]
    },
    {
      "cell_type": "code",
      "metadata": {
        "colab_type": "code",
        "id": "ZnYVkSNW3NGO",
        "colab": {}
      },
      "source": [
        "# write your code here"
      ],
      "execution_count": null,
      "outputs": []
    },
    {
      "cell_type": "markdown",
      "metadata": {
        "colab_type": "text",
        "id": "YJMorjmB3NGQ"
      },
      "source": [
        "*Write your text answer here*"
      ]
    },
    {
      "cell_type": "markdown",
      "metadata": {
        "id": "iSceVLGq9_e0",
        "colab_type": "text"
      },
      "source": [
        "## Problem 3 \n",
        "\n",
        "In this problem, we'll explore the relationship between **generatedCoins (X)** and **blockCount (Y)** in the data. "
      ]
    },
    {
      "cell_type": "markdown",
      "metadata": {
        "id": "7pyX_fzO7ebB",
        "colab_type": "text"
      },
      "source": [
        "### Reading: Bitcoin Mining and Block Rewards\n",
        "\n",
        "As mentioned earlier, the Bitcoin network is entirely decentralized and maintained by the world's collective computing power. The way the system works is whenever a participant on the blockchain wants to send a payment on the network, she/he can broadcast the transaction to all miners on the network. The miners can thus choose which transactions to include in the blocks they mine. To incentivize miners to include a transaction, participants in the network can include a transaction fee paid to in their transaction as a reward for including the block.\n",
        "\n",
        "In addition to transaction fees, Bitcoin incentivizes mining through the minting of new coins. Every time a block is mined, a new quantity of Bitcoin is \"minted\" and awarded to the winner of the mining process. The amount of money rewarded for each block is called the block reward.\n",
        "\n",
        "Aside: The way the Bitcoin blockchain network incentivizes mining is interesting"
      ]
    },
    {
      "cell_type": "markdown",
      "metadata": {
        "id": "mVyQt4wc67Js",
        "colab_type": "text"
      },
      "source": [
        "---\n",
        "\n",
        "### **$X$, $Y$ Column Descriptions**\n",
        "\n",
        "This problem compares both **generatedCoins (X)** and **blockCount (Y)** in the data. We will describe both columns below:\n",
        "\n",
        "*   **blockCount (Y):** The number of blocks that were mined on a particular day.\n",
        "*   **generatedCoins (X):** The amount of Bitcoin minted on a particular day as block rewards."
      ]
    },
    {
      "cell_type": "markdown",
      "metadata": {
        "colab_type": "text",
        "id": "oVAJS6Jj6L3l"
      },
      "source": [
        "---\n",
        "\n",
        "\n",
        "### **(a) Hypothesize the Relationship**\n",
        "Before you plot the data on a scatterplot, what do you hypothesize the relationship between $X$ and $Y$ will be? Do you hypothesize the data will follow either a linear, power law, or exponential relationship? If not, what kind of behavior do you hypothesize the data will exhibit?\n",
        "\n",
        "*Hint: We omitted in the description above one important detail about the mining process that is necessary to answer this question. If you can identify what that hint is, please describe it here.*"
      ]
    },
    {
      "cell_type": "markdown",
      "metadata": {
        "colab_type": "text",
        "id": "RBV5P2AH6L3n"
      },
      "source": [
        "*The relationship between X and Y, or the generatedCoins to the blockCount is going to be exactly linear. This is because the slope should be equal to number of coins generated by the block. *"
      ]
    },
    {
      "cell_type": "markdown",
      "metadata": {
        "colab_type": "text",
        "id": "WvsG8uzX6L3n"
      },
      "source": [
        "### **(b) Load a Fresh Copy of Data**\n",
        "\n",
        "Next, run the following cell to load the data into a *pandas* dataframe and to visualize the first five rows of data. Generally, each time you do an analysis, it's a good idea to load the data again, to make sure you start with a clean copy of the dataset. If you apply a transformation to data, it's a good way of ensuring you don't have any transformations remaining when you do the next analysis. "
      ]
    },
    {
      "cell_type": "code",
      "metadata": {
        "colab_type": "code",
        "id": "JpTpxWlf6L3o",
        "colab": {
          "base_uri": "https://localhost:8080/",
          "height": 309
        },
        "outputId": "f05e4b21-cd41-45a0-c5b7-cb0673b7637a"
      },
      "source": [
        "import pandas as pd\n",
        "import matplotlib.pyplot as plt\n",
        "\n",
        "# run this cell to download *dh-bitcoin.csv* from the Google Drive\n",
        "df = pd.read_csv('https://drive.google.com/u/0/uc?id=1Fo_QyN4ttdz1muDHKgHtXVtZpXJ5ODoV&export=download')\n",
        "df.head()"
      ],
      "execution_count": 27,
      "outputs": [
        {
          "output_type": "execute_result",
          "data": {
            "text/html": [
              "<div>\n",
              "<style scoped>\n",
              "    .dataframe tbody tr th:only-of-type {\n",
              "        vertical-align: middle;\n",
              "    }\n",
              "\n",
              "    .dataframe tbody tr th {\n",
              "        vertical-align: top;\n",
              "    }\n",
              "\n",
              "    .dataframe thead th {\n",
              "        text-align: right;\n",
              "    }\n",
              "</style>\n",
              "<table border=\"1\" class=\"dataframe\">\n",
              "  <thead>\n",
              "    <tr style=\"text-align: right;\">\n",
              "      <th></th>\n",
              "      <th>date</th>\n",
              "      <th>txVolume</th>\n",
              "      <th>adjustedTxVolume</th>\n",
              "      <th>txCount</th>\n",
              "      <th>marketcap</th>\n",
              "      <th>price</th>\n",
              "      <th>exchangeVolume</th>\n",
              "      <th>generatedCoins</th>\n",
              "      <th>fees</th>\n",
              "      <th>activeAddresses</th>\n",
              "      <th>averageDifficulty</th>\n",
              "      <th>paymentCount</th>\n",
              "      <th>medianTxValue</th>\n",
              "      <th>medianFee</th>\n",
              "      <th>blockSize</th>\n",
              "      <th>blockCount</th>\n",
              "    </tr>\n",
              "  </thead>\n",
              "  <tbody>\n",
              "    <tr>\n",
              "      <th>0</th>\n",
              "      <td>2013-04-28</td>\n",
              "      <td>6.879868e+07</td>\n",
              "      <td>3.153714e+07</td>\n",
              "      <td>41702</td>\n",
              "      <td>1.500656e+09</td>\n",
              "      <td>135.30</td>\n",
              "      <td>0.0</td>\n",
              "      <td>4425.0000</td>\n",
              "      <td>32.791942</td>\n",
              "      <td>117984</td>\n",
              "      <td>8.974296e+06</td>\n",
              "      <td>130171</td>\n",
              "      <td>49.980091</td>\n",
              "      <td>0.0005</td>\n",
              "      <td>21597536</td>\n",
              "      <td>177</td>\n",
              "    </tr>\n",
              "    <tr>\n",
              "      <th>1</th>\n",
              "      <td>2013-04-29</td>\n",
              "      <td>1.138128e+08</td>\n",
              "      <td>4.821652e+07</td>\n",
              "      <td>51602</td>\n",
              "      <td>1.491703e+09</td>\n",
              "      <td>134.44</td>\n",
              "      <td>0.0</td>\n",
              "      <td>4349.9988</td>\n",
              "      <td>45.724114</td>\n",
              "      <td>86925</td>\n",
              "      <td>8.974296e+06</td>\n",
              "      <td>112426</td>\n",
              "      <td>62.425891</td>\n",
              "      <td>0.0005</td>\n",
              "      <td>25676453</td>\n",
              "      <td>174</td>\n",
              "    </tr>\n",
              "    <tr>\n",
              "      <th>2</th>\n",
              "      <td>2013-04-30</td>\n",
              "      <td>8.426632e+07</td>\n",
              "      <td>5.686790e+07</td>\n",
              "      <td>47450</td>\n",
              "      <td>1.598310e+09</td>\n",
              "      <td>144.00</td>\n",
              "      <td>0.0</td>\n",
              "      <td>3725.0000</td>\n",
              "      <td>45.748651</td>\n",
              "      <td>76871</td>\n",
              "      <td>9.854414e+06</td>\n",
              "      <td>98258</td>\n",
              "      <td>26.942145</td>\n",
              "      <td>0.0005</td>\n",
              "      <td>27042465</td>\n",
              "      <td>149</td>\n",
              "    </tr>\n",
              "    <tr>\n",
              "      <th>3</th>\n",
              "      <td>2013-05-01</td>\n",
              "      <td>1.206825e+08</td>\n",
              "      <td>8.208736e+07</td>\n",
              "      <td>55176</td>\n",
              "      <td>1.543334e+09</td>\n",
              "      <td>139.00</td>\n",
              "      <td>0.0</td>\n",
              "      <td>3775.0000</td>\n",
              "      <td>40.885938</td>\n",
              "      <td>83564</td>\n",
              "      <td>1.007629e+07</td>\n",
              "      <td>96129</td>\n",
              "      <td>38.671980</td>\n",
              "      <td>0.0005</td>\n",
              "      <td>25727393</td>\n",
              "      <td>151</td>\n",
              "    </tr>\n",
              "    <tr>\n",
              "      <th>4</th>\n",
              "      <td>2013-05-02</td>\n",
              "      <td>9.337533e+07</td>\n",
              "      <td>5.823736e+07</td>\n",
              "      <td>55295</td>\n",
              "      <td>1.292577e+09</td>\n",
              "      <td>116.38</td>\n",
              "      <td>0.0</td>\n",
              "      <td>3350.0000</td>\n",
              "      <td>52.554004</td>\n",
              "      <td>81920</td>\n",
              "      <td>1.007629e+07</td>\n",
              "      <td>101721</td>\n",
              "      <td>35.382348</td>\n",
              "      <td>0.0005</td>\n",
              "      <td>26388234</td>\n",
              "      <td>134</td>\n",
              "    </tr>\n",
              "  </tbody>\n",
              "</table>\n",
              "</div>"
            ],
            "text/plain": [
              "         date      txVolume  adjustedTxVolume  ...  medianFee  blockSize  blockCount\n",
              "0  2013-04-28  6.879868e+07      3.153714e+07  ...     0.0005   21597536         177\n",
              "1  2013-04-29  1.138128e+08      4.821652e+07  ...     0.0005   25676453         174\n",
              "2  2013-04-30  8.426632e+07      5.686790e+07  ...     0.0005   27042465         149\n",
              "3  2013-05-01  1.206825e+08      8.208736e+07  ...     0.0005   25727393         151\n",
              "4  2013-05-02  9.337533e+07      5.823736e+07  ...     0.0005   26388234         134\n",
              "\n",
              "[5 rows x 16 columns]"
            ]
          },
          "metadata": {
            "tags": []
          },
          "execution_count": 27
        }
      ]
    },
    {
      "cell_type": "markdown",
      "metadata": {
        "colab_type": "text",
        "id": "iDDcl2df6L3s"
      },
      "source": [
        "### **(c) Plot the Data on a Scatterplot**\n",
        "\n",
        "Visualize $X$ vs $Y$ using a scatterplot. \n",
        "\n",
        "*Hint: If you are unsure how to create the scatterplot, you may find the following [documentation](https://matplotlib.org/api/_as_gen/matplotlib.pyplot.scatter.html) to be useful.*"
      ]
    },
    {
      "cell_type": "code",
      "metadata": {
        "colab_type": "code",
        "id": "-O8P3YIv6L3s",
        "colab": {
          "base_uri": "https://localhost:8080/",
          "height": 283
        },
        "outputId": "c3f70463-9999-4092-e9a2-850819963f52"
      },
      "source": [
        "x = \"generatedCoins\" \n",
        "y = \"blockCount\"\n",
        "plt.scatter(df[x], df[y])"
      ],
      "execution_count": 28,
      "outputs": [
        {
          "output_type": "execute_result",
          "data": {
            "text/plain": [
              "<matplotlib.collections.PathCollection at 0x7f03c28b1128>"
            ]
          },
          "metadata": {
            "tags": []
          },
          "execution_count": 28
        },
        {
          "output_type": "display_data",
          "data": {
            "image/png": "[encoded data removed]",
            "text/plain": [
              "<Figure size 432x288 with 1 Axes>"
            ]
          },
          "metadata": {
            "tags": [],
            "needs_background": "light"
          }
        }
      ]
    },
    {
      "cell_type": "markdown",
      "metadata": {
        "colab_type": "text",
        "id": "6y_2aoB36L3w"
      },
      "source": [
        "\n",
        "\n",
        "---\n",
        "### **(d) Describe Scatterplot**\n",
        "\n",
        "Describe, in completely qualitative terms, the direction, strength, and shape of this scatterplot. Recall the following three definitions from lecture:\n",
        "\n",
        "**Direction:** Qualitative descriptions of variable relationships (in the simplest form: \"As X increases, Y ...\")\n",
        "\n",
        "**Strength:** What is the strength of the trend you are describing?\n",
        "\n",
        "**Shape:** What does the data look like (linear, power law, exponential? if none of the above, how would you describe what the data looks like?)"
      ]
    },
    {
      "cell_type": "markdown",
      "metadata": {
        "colab_type": "text",
        "id": "nnJjfcMa6L3w"
      },
      "source": [
        "*There is a very strong positve realtionship in the scatterplot, which tells us the strength of the trend. However the shape is very different to the other types of scatter plot we have worked with, this scatterplot is more like two lines and there are less plots. As for the direction, it is linear but it is balanced. Which means that it is not exactly linear and there are stops within the scatterplot throughout.*"
      ]
    },
    {
      "cell_type": "markdown",
      "metadata": {
        "id": "nu3BLiTZ9_e_",
        "colab_type": "text"
      },
      "source": [
        "\n",
        "\n",
        "---\n",
        "\n",
        "\n",
        "**Clearly, the dataset does not at all resemble a linear, exponential, or power law relationship, so we should confidently abandon that form of modeling entirely! The rest of this problem is optional and is concerned with figuring out exactly what explains the \"strangeness\" in this dataset.**\n",
        "\n",
        "### **(e) [Optional Challenge] Uncover the Mystery**\n",
        "The scatterplot shows that the data seems to fall on two separate lines. Let's see if we can try to uncover more information about this strange pattern. To get started, use Pandas to separate the dataframe into two separate dataframes corresponding to points on each of the two lines. What do you notice as a general property of points in these two dataframes?\n",
        "\n",
        "*Hint 1: It may be helpful to look at the date column of the data.*\n",
        "\n",
        "*Hint 2: It's hard to look at three dimensions at once on a 2-D graph. One way to make it easier is to visualize the third dimension with color. The following code uses Seaborn, a commonly used extension of matplotlib:*\n",
        "\n",
        "```\n",
        "import seaborn as sns\n",
        "g = sns.scatterplot(x = <fill this in>, y=<fill this in>, data=df, hue=<fill this in>)\n",
        "g.legend_.remove()\n",
        "```\n",
        "*will show a graph where x and y are as usual, and one can use an extra variable to represent the color of each datapoint. Lastly, if you want to see the legend of the data (how the colors correspond to the points) feel free to comment out the last line.*\n",
        "\n"
      ]
    },
    {
      "cell_type": "code",
      "metadata": {
        "id": "hyZc6Phv9_e_",
        "colab_type": "code",
        "colab": {}
      },
      "source": [
        "# write your code here"
      ],
      "execution_count": null,
      "outputs": []
    },
    {
      "cell_type": "markdown",
      "metadata": {
        "id": "nXTtXdzO9_fD",
        "colab_type": "text"
      },
      "source": [
        "*Write your answer here.*"
      ]
    },
    {
      "cell_type": "markdown",
      "metadata": {
        "id": "cTn2_l3L9_fE",
        "colab_type": "text"
      },
      "source": [
        "---\n",
        "### **(f) [Optional Challenge] Find Out Why**\n",
        "If you got the correct answer to part (e), then you will realize that we have indeed identified a very interesting property of the dataset. There is actually a very specific reason for this pattern and it has to do with an important property of the Bitcoin network. Please describe why we observe this interesting pattern.\n",
        "\n",
        "As a challenge problem for this assignment, we ask you to read the [Bitcoin network wikipedia page](https://en.wikipedia.org/wiki/Bitcoin_network) to see if you can find the answer.\n",
        "\n",
        "*Hint 1: It may help to first consider why both segments of the scatterplot are perfect lines. In other words, what does the slope of the line represent in this case, and why is the value constant?*\n",
        "\n",
        "*Hint 2: You may find the [Bitcoin network wikipedia page](https://en.wikipedia.org/wiki/Bitcoin_network) to be a useful resource to read. You can focus your reading on the parts of the page before the start of the Payment Verifiication section.*\n"
      ]
    },
    {
      "cell_type": "markdown",
      "metadata": {
        "id": "12G_uwNkPfmR",
        "colab_type": "text"
      },
      "source": [
        "*Write your answer here.*"
      ]
    },
    {
      "cell_type": "markdown",
      "metadata": {
        "id": "eQz6Lp6S8dwS",
        "colab_type": "text"
      },
      "source": [
        "## Next Steps\n",
        "\n",
        "**If you've made it to this part of the assignment, congrats!** T3 was certainly a challenging assignment in terms of both technical content and also understanding the complexities of an extremely dense field of technology. Working with this particularly challenging dataset should've allowed you to:\n",
        "\n",
        "*   **Get practice working with real, complicated data.** Real world data is often tricky and nuanced, and the skills you developed here should hopefully generalize to understanding datasets in other scientific domains with complexities.\n",
        "*   **Get experience with blockchain technologies.** Blockchain technologies are one of the fastest-moving fields in science right now, and the field looks almost entirely different today than it does even two years ago (almost no other field can claim this!). Much of the advancements in blockchain technologies are actually driven by advanced methods in cryptography and theoretical computer science. It is probably the field with the most applications of theoretical concepts to a real-world problem.\n",
        "\n",
        "To learn more about the cryptography or technology behind blockchains and cryptocurrencies, we recommend checking out the following courses:\n",
        "\n",
        "*   CS 255: [Introduction to Cryptography](https://crypto.stanford.edu/~dabo/cs255/) \n",
        "*   CS 251: [Cryptocurrencies and Blockchain Technologies](https://cs251.stanford.edu/)\n",
        "*  CS 355: [Topics in Cryptography](https://crypto.stanford.edu/cs355/20sp/)\n",
        "\n",
        "If you're interested and have any questions, please reach out to Adam or Franklyn on Slack.\n"
      ]
    }
  ]
}